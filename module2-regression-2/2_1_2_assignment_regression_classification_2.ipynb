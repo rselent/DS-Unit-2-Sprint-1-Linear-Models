{
  "nbformat": 4,
  "nbformat_minor": 0,
  "metadata": {
    "colab": {
      "name": "2_1_2_assignment_regression_classification_2.ipynb",
      "provenance": [],
      "collapsed_sections": [],
      "include_colab_link": true
    },
    "kernelspec": {
      "display_name": "Python 3",
      "language": "python",
      "name": "python3"
    },
    "language_info": {
      "codemirror_mode": {
        "name": "ipython",
        "version": 3
      },
      "file_extension": ".py",
      "mimetype": "text/x-python",
      "name": "python",
      "nbconvert_exporter": "python",
      "pygments_lexer": "ipython3",
      "version": "3.7.3"
    }
  },
  "cells": [
    {
      "cell_type": "markdown",
      "metadata": {
        "id": "view-in-github",
        "colab_type": "text"
      },
      "source": [
        "<a href=\"https://colab.research.google.com/github/rselent/DS-Unit-2-Sprint-1-Linear-Models/blob/master/module2-regression-2/2_1_2_assignment_regression_classification_2.ipynb\" target=\"_parent\"><img src=\"https://colab.research.google.com/assets/colab-badge.svg\" alt=\"Open In Colab\"/></a>"
      ]
    },
    {
      "cell_type": "markdown",
      "metadata": {
        "id": "M6KERIVjoRrL",
        "colab_type": "text"
      },
      "source": [
        "Lambda School Data Science\n",
        "\n",
        "*Unit 2, Sprint 1, Module 2*\n",
        "\n",
        "---"
      ]
    },
    {
      "cell_type": "markdown",
      "metadata": {
        "colab_type": "text",
        "id": "7IXUfiQ2UKj6"
      },
      "source": [
        "# Regression 2\n",
        "\n",
        "## Assignment\n",
        "\n",
        "You'll continue to **predict how much it costs to rent an apartment in NYC,** using the dataset from renthop.com.\n",
        "\n",
        "- [ ] Do train/test split. Use data from April & May 2016 to train. Use data from June 2016 to test.\n",
        "- [ ] Engineer at least two new features. (See below for explanation & ideas.)\n",
        "- [ ] Fit a linear regression model with at least two features.\n",
        "- [ ] Get the model's coefficients and intercept.\n",
        "- [ ] Get regression metrics RMSE, MAE, and $R^2$, for both the train and test data.\n",
        "- [ ] What's the best test MAE you can get? Share your score and features used with your cohort on Slack!\n",
        "- [ ] As always, commit your notebook to your fork of the GitHub repo.\n",
        "\n",
        "\n",
        "#### [Feature Engineering](https://en.wikipedia.org/wiki/Feature_engineering)\n",
        "\n",
        "> \"Some machine learning projects succeed and some fail. What makes the difference? Easily the most important factor is the features used.\" — Pedro Domingos, [\"A Few Useful Things to Know about Machine Learning\"](https://homes.cs.washington.edu/~pedrod/papers/cacm12.pdf)\n",
        "\n",
        "> \"Coming up with features is difficult, time-consuming, requires expert knowledge. 'Applied machine learning' is basically feature engineering.\" — Andrew Ng, [Machine Learning and AI via Brain simulations](https://forum.stanford.edu/events/2011/2011slides/plenary/2011plenaryNg.pdf) \n",
        "\n",
        "> Feature engineering is the process of using domain knowledge of the data to create features that make machine learning algorithms work. \n",
        "\n",
        "#### Feature Ideas\n",
        "- Does the apartment have a description?\n",
        "- How long is the description?\n",
        "- How many total perks does each apartment have?\n",
        "- Are cats _or_ dogs allowed?\n",
        "- Are cats _and_ dogs allowed?\n",
        "- Total number of rooms (beds + baths)\n",
        "- Ratio of beds to baths\n",
        "- What's the neighborhood, based on address or latitude & longitude?\n",
        "\n",
        "## Stretch Goals\n",
        "- [ ] If you want more math, skim [_An Introduction to Statistical Learning_](http://faculty.marshall.usc.edu/gareth-james/ISL/ISLR%20Seventh%20Printing.pdf),  Chapter 3.1, Simple Linear Regression, & Chapter 3.2, Multiple Linear Regression\n",
        "- [ ] If you want more introduction, watch [Brandon Foltz, Statistics 101: Simple Linear Regression](https://www.youtube.com/watch?v=ZkjP5RJLQF4)\n",
        "(20 minutes, over 1 million views)\n",
        "- [ ] Add your own stretch goal(s) !"
      ]
    },
    {
      "cell_type": "code",
      "metadata": {
        "colab_type": "code",
        "id": "o9eSnDYhUGD7",
        "colab": {}
      },
      "source": [
        "%%capture\n",
        "import sys\n",
        "\n",
        "# If you're on Colab:\n",
        "if 'google.colab' in sys.modules:\n",
        "    DATA_PATH = 'https://raw.githubusercontent.com/LambdaSchool/DS-Unit-2-Applied-Modeling/master/data/'\n",
        "    !pip install category_encoders==2.*\n",
        "\n",
        "# If you're working locally:\n",
        "else:\n",
        "    DATA_PATH = '../data/'\n",
        "    \n",
        "# Ignore this Numpy warning when using Plotly Express:\n",
        "# FutureWarning: Method .ptp is deprecated and will be removed in a future version. Use numpy.ptp instead.\n",
        "import warnings\n",
        "warnings.filterwarnings(action='ignore', category=FutureWarning, module='numpy')"
      ],
      "execution_count": 0,
      "outputs": []
    },
    {
      "cell_type": "code",
      "metadata": {
        "colab_type": "code",
        "id": "cvrw-T3bZOuW",
        "colab": {}
      },
      "source": [
        "import numpy as np\n",
        "import pandas as pd\n",
        "\n",
        "# Read New York City apartment rental listing data\n",
        "df = pd.read_csv(DATA_PATH+'apartments/renthop-nyc.csv')\n",
        "assert df.shape == (49352, 34)\n",
        "\n",
        "# Remove the most extreme 1% prices,\n",
        "# the most extreme .1% latitudes, &\n",
        "# the most extreme .1% longitudes\n",
        "df = df[(df['price'] >= np.percentile(df['price'], 0.5)) & \n",
        "        (df['price'] <= np.percentile(df['price'], 99.5)) & \n",
        "        (df['latitude'] >= np.percentile(df['latitude'], 0.05)) & \n",
        "        (df['latitude'] < np.percentile(df['latitude'], 99.95)) &\n",
        "        (df['longitude'] >= np.percentile(df['longitude'], 0.05)) & \n",
        "        (df['longitude'] <= np.percentile(df['longitude'], 99.95))]\n",
        "### ISN'T this the .5% most extreme prices, and .05% lats/longs? o_O"
      ],
      "execution_count": 0,
      "outputs": []
    },
    {
      "cell_type": "code",
      "metadata": {
        "id": "2kBbOvnmE8Ak",
        "colab_type": "code",
        "colab": {}
      },
      "source": [
        "## FEATURE engineering here:\n",
        "\n",
        "df['total_rooms'] = df['bedrooms'] + df['bathrooms'] + df['dining_room']\n",
        "\n",
        "df['opulence_level'] = (df['elevator'] + df['hardwood_floors'] + df['doorman']\n",
        "                         + df['dishwasher'] + df['no_fee'] + df['laundry_in_building']\n",
        "                         + df['fitness_center'] + df['pre-war'] + df['laundry_in_unit']\n",
        "                         + df['roof_deck'] + df['outdoor_space'] + df['dining_room']\n",
        "                         + df['high_speed_internet'] + df['balcony'] + df['swimming_pool']\n",
        "                         + df['new_construction'] + df['terrace'] + df['exclusive']\n",
        "                         + df['loft'] + df['garden_patio'] + df['common_outdoor_space'] )"
      ],
      "execution_count": 0,
      "outputs": []
    },
    {
      "cell_type": "code",
      "metadata": {
        "id": "yqN7PevvBnKS",
        "colab_type": "code",
        "colab": {
          "base_uri": "https://localhost:8080/",
          "height": 34
        },
        "outputId": "0f3cccfe-8f00-4fb9-9314-93e85930f3fd"
      },
      "source": [
        "# convert created to datetime format, first\n",
        "pd.to_datetime( df.created)\n",
        "\n",
        "# split dataset into train and test subsets\n",
        "train = df[ df[ 'created'] < '2016-06-01 00:00:00']\n",
        "test = df[ df[ 'created'] > '2016-05-31 23:59:59']\n",
        "\n",
        "train.shape, test.shape"
      ],
      "execution_count": 14,
      "outputs": [
        {
          "output_type": "execute_result",
          "data": {
            "text/plain": [
              "((31844, 36), (16973, 36))"
            ]
          },
          "metadata": {
            "tags": []
          },
          "execution_count": 14
        }
      ]
    },
    {
      "cell_type": "code",
      "metadata": {
        "id": "x2AnmbBrp1uh",
        "colab_type": "code",
        "colab": {
          "base_uri": "https://localhost:8080/",
          "height": 51
        },
        "outputId": "ac153aa7-3d41-45b1-b533-d4e8c9433dfc"
      },
      "source": [
        "###     5 STEPS:     ###\n",
        "\n",
        "## IMPORT\n",
        "from sklearn.linear_model import LinearRegression\n",
        "from sklearn.metrics import mean_absolute_error\n",
        "\n",
        "## INSTANTIATE class(es)\n",
        "linReg = LinearRegression()\n",
        "\n",
        "## ARRANGE target vector (y) and features (X)\n",
        "target = 'price'\n",
        "features = ['bedrooms', 'bathrooms']   # baseline features, most important rooms\n",
        "\n",
        "yTrain = train[ target]\n",
        "yTest = test[ target]\n",
        "\n",
        "xTrain = train[ features]\n",
        "xTest = test[ features]\n",
        "\n",
        "## FIT model\n",
        "linReg.fit( xTrain, yTrain)\n",
        "yPred = linReg.predict( xTrain)\n",
        "print( 'Train error: ${0:.2f}'.format( mean_absolute_error( yTrain, yPred)) )\n",
        "\n",
        "## APPLY model\n",
        "yPred = linReg.predict( xTest)\n",
        "print( 'Test error: ${0:.2f}'.format( mean_absolute_error( yTest, yPred)) )"
      ],
      "execution_count": 8,
      "outputs": [
        {
          "output_type": "stream",
          "text": [
            "Train error: $818.53\n",
            "Test error: $825.90\n"
          ],
          "name": "stdout"
        }
      ]
    },
    {
      "cell_type": "code",
      "metadata": {
        "id": "65tf5N3Rp1rO",
        "colab_type": "code",
        "colab": {
          "base_uri": "https://localhost:8080/",
          "height": 51
        },
        "outputId": "b2eee8c6-00aa-4234-bf4c-d1ec09e4ba55"
      },
      "source": [
        "features = ['total_rooms']\n",
        "xTrain = train[ features]\n",
        "xTest = test[ features]\n",
        "\n",
        "linReg.fit( xTrain, yTrain)\n",
        "yPred = linReg.predict( xTrain)\n",
        "print( 'Train error: ${0:.2f}'.format( mean_absolute_error( yTrain, yPred)) )\n",
        "\n",
        "yPred = linReg.predict( xTest)\n",
        "print( 'Test error: ${0:.2f}'.format( mean_absolute_error( yTest, yPred)) )"
      ],
      "execution_count": 15,
      "outputs": [
        {
          "output_type": "stream",
          "text": [
            "Train error: $896.16\n",
            "Test error: $907.79\n"
          ],
          "name": "stdout"
        }
      ]
    },
    {
      "cell_type": "code",
      "metadata": {
        "id": "otwV6etVp1oD",
        "colab_type": "code",
        "colab": {
          "base_uri": "https://localhost:8080/",
          "height": 51
        },
        "outputId": "8536b210-a602-42d3-c5a9-082d0ce55924"
      },
      "source": [
        "features = ['opulence_level']\n",
        "xTrain = train[ features]\n",
        "xTest = test[ features]\n",
        "\n",
        "linReg.fit( xTrain, yTrain)\n",
        "yPred = linReg.predict( xTrain)\n",
        "print( 'Train error: ${0:.2f}'.format( mean_absolute_error( yTrain, yPred)) )\n",
        "\n",
        "yPred = linReg.predict( xTest)\n",
        "print( 'Test error: ${0:.2f}'.format( mean_absolute_error( yTest, yPred)) )"
      ],
      "execution_count": 16,
      "outputs": [
        {
          "output_type": "stream",
          "text": [
            "Train error: $1141.23\n",
            "Test error: $1129.40\n"
          ],
          "name": "stdout"
        }
      ]
    },
    {
      "cell_type": "code",
      "metadata": {
        "id": "uMURed0kG-IL",
        "colab_type": "code",
        "colab": {
          "base_uri": "https://localhost:8080/",
          "height": 51
        },
        "outputId": "f296fef5-4c79-436e-ec07-67a9308b99bb"
      },
      "source": [
        "features = ['total_rooms', 'opulence_level']\n",
        "xTrain = train[ features]\n",
        "xTest = test[ features]\n",
        "\n",
        "linReg.fit( xTrain, yTrain)\n",
        "yPred = linReg.predict( xTrain)\n",
        "print( 'Train error: ${0:.2f}'.format( mean_absolute_error( yTrain, yPred)) )\n",
        "\n",
        "yPred = linReg.predict( xTest)\n",
        "print( 'Test error: ${0:.2f}'.format( mean_absolute_error( yTest, yPred)) )"
      ],
      "execution_count": 17,
      "outputs": [
        {
          "output_type": "stream",
          "text": [
            "Train error: $870.97\n",
            "Test error: $879.94\n"
          ],
          "name": "stdout"
        }
      ]
    },
    {
      "cell_type": "code",
      "metadata": {
        "id": "GxBVTGfpHA36",
        "colab_type": "code",
        "colab": {
          "base_uri": "https://localhost:8080/",
          "height": 51
        },
        "outputId": "8063c5f5-6786-439d-ce74-0bdf0f549767"
      },
      "source": [
        "features = ['elevator', 'hardwood_floors', 'doorman', 'dishwasher', 'no_fee',\n",
        "            'laundry_in_building', 'fitness_center', 'pre-war', 'laundry_in_unit',\n",
        "            'roof_deck', 'outdoor_space', 'dining_room', 'high_speed_internet',\n",
        "            'balcony', 'swimming_pool', 'new_construction', 'terrace', \n",
        "            'exclusive', 'loft', 'garden_patio', 'common_outdoor_space']\n",
        "\n",
        "xTrain = train[ features]\n",
        "xTest = test[ features]\n",
        "\n",
        "linReg.fit( xTrain, yTrain)\n",
        "yPred = linReg.predict( xTrain)\n",
        "print( 'Train error: ${0:.2f}'.format( mean_absolute_error( yTrain, yPred)) )\n",
        "\n",
        "yPred = linReg.predict( xTest)\n",
        "print( 'Test error: ${0:.2f}'.format( mean_absolute_error( yTest, yPred)) )\n",
        "\n",
        "## INTERESTING how this results in a different mae than \n",
        "## the combined/engineered feature 'opulence_level'..."
      ],
      "execution_count": 18,
      "outputs": [
        {
          "output_type": "stream",
          "text": [
            "Train error: $1087.30\n",
            "Test error: $1082.30\n"
          ],
          "name": "stdout"
        }
      ]
    },
    {
      "cell_type": "code",
      "metadata": {
        "id": "41e2F4ztJv8T",
        "colab_type": "code",
        "colab": {
          "base_uri": "https://localhost:8080/",
          "height": 51
        },
        "outputId": "27781240-62ea-4342-c0e7-3dc05510d027"
      },
      "source": [
        "features = ['cats_allowed', 'dogs_allowed', 'opulence_level', 'bedrooms', 'bathrooms']\n",
        "\n",
        "xTrain = train[ features]\n",
        "xTest = test[ features]\n",
        "\n",
        "linReg.fit( xTrain, yTrain)\n",
        "yPred = linReg.predict( xTrain)\n",
        "print( 'Train error: ${0:.2f}'.format( mean_absolute_error( yTrain, yPred)) )\n",
        "\n",
        "yPred = linReg.predict( xTest)\n",
        "print( 'Test error: ${0:.2f}'.format( mean_absolute_error( yTest, yPred)) )"
      ],
      "execution_count": 26,
      "outputs": [
        {
          "output_type": "stream",
          "text": [
            "Train error: $794.88\n",
            "Test error: $799.26\n"
          ],
          "name": "stdout"
        }
      ]
    },
    {
      "cell_type": "code",
      "metadata": {
        "id": "HzZawIJYJv1c",
        "colab_type": "code",
        "colab": {
          "base_uri": "https://localhost:8080/",
          "height": 51
        },
        "outputId": "009224f3-af75-496b-e3ee-87642767900d"
      },
      "source": [
        "features = ['cats_allowed', 'dogs_allowed', 'bedrooms', 'bathrooms', \n",
        "            'elevator', 'hardwood_floors', 'doorman', 'dishwasher', 'no_fee',\n",
        "            'laundry_in_building', 'fitness_center', 'pre-war', 'laundry_in_unit',\n",
        "            'roof_deck', 'outdoor_space', 'dining_room', 'high_speed_internet',\n",
        "            'balcony', 'swimming_pool', 'new_construction', 'terrace', \n",
        "            'exclusive', 'loft', 'garden_patio', 'common_outdoor_space']\n",
        "\n",
        "xTrain = train[ features]\n",
        "xTest = test[ features]\n",
        "\n",
        "linReg.fit( xTrain, yTrain)\n",
        "yPred = linReg.predict( xTrain)\n",
        "print( 'Train error: ${0:.2f}'.format( mean_absolute_error( yTrain, yPred)) )\n",
        "\n",
        "yPred = linReg.predict( xTest)\n",
        "print( 'Test error: ${0:.2f}'.format( mean_absolute_error( yTest, yPred)) )"
      ],
      "execution_count": 27,
      "outputs": [
        {
          "output_type": "stream",
          "text": [
            "Train error: $748.98\n",
            "Test error: $757.54\n"
          ],
          "name": "stdout"
        }
      ]
    },
    {
      "cell_type": "code",
      "metadata": {
        "id": "AmIuyhsMK0cn",
        "colab_type": "code",
        "colab": {
          "base_uri": "https://localhost:8080/",
          "height": 476
        },
        "outputId": "926a2ccc-d199-4e00-ef16-a3a3e0fc624b"
      },
      "source": [
        "print( 'Intercept\\t\\t', linReg.intercept_, '\\n')\n",
        "print( pd.Series( linReg.coef_, features).to_string() )"
      ],
      "execution_count": 31,
      "outputs": [
        {
          "output_type": "stream",
          "text": [
            "Intercept\t\t 371.4271756215485 \n",
            "\n",
            "cats_allowed             -95.522706\n",
            "dogs_allowed             184.522455\n",
            "bedrooms                 461.253558\n",
            "bathrooms               1765.166078\n",
            "elevator                 155.486893\n",
            "hardwood_floors         -185.168163\n",
            "doorman                  614.456396\n",
            "dishwasher               114.173115\n",
            "no_fee                  -187.634992\n",
            "laundry_in_building     -257.969203\n",
            "fitness_center           232.993854\n",
            "pre-war                  -52.512753\n",
            "laundry_in_unit          559.480281\n",
            "roof_deck               -144.822962\n",
            "outdoor_space           -120.931884\n",
            "dining_room              159.490162\n",
            "high_speed_internet     -307.345086\n",
            "balcony                  -84.973709\n",
            "swimming_pool             31.230072\n",
            "new_construction        -115.852895\n",
            "terrace                  225.388068\n",
            "exclusive                 67.760835\n",
            "loft                     209.802758\n",
            "garden_patio             -58.702191\n",
            "common_outdoor_space      45.492371\n"
          ],
          "name": "stdout"
        }
      ]
    },
    {
      "cell_type": "code",
      "metadata": {
        "id": "lG2AkkbrKzwS",
        "colab_type": "code",
        "colab": {
          "base_uri": "https://localhost:8080/",
          "height": 136
        },
        "outputId": "bf9836d1-97e5-4463-dc09-c9ddfac16275"
      },
      "source": [
        "from sklearn.metrics import mean_squared_error, r2_score\n",
        "\n",
        "yPred = linReg.predict( xTrain)\n",
        "print( 'Root mean squared error of train data:', np.sqrt( mean_squared_error( yTrain, yPred)) )\n",
        "print( 'Its mean absolute error:', mean_absolute_error( yTrain, yPred) )\n",
        "print( 'And its R^2:', r2_score( yTrain, yPred) )\n",
        "\n",
        "yPred = linReg.predict( xTest)\n",
        "print( '\\nRoot mean squared error of test data:', np.sqrt( mean_squared_error( yTest, yPred)) )\n",
        "print( 'Its mean absolute error:', mean_absolute_error( yTest, yPred) )\n",
        "print( 'And its R^2:', r2_score( yTest, yPred) )"
      ],
      "execution_count": 34,
      "outputs": [
        {
          "output_type": "stream",
          "text": [
            "Root mean squared error of train data: 1147.2093073364124\n",
            "Its mean absolute error: 748.9802475676714\n",
            "And its R^2: 0.5761425975918815\n",
            "\n",
            "Root mean squared error of test data: 1136.500397037836\n",
            "Its mean absolute error: 757.5358645783142\n",
            "And its R^2: 0.5844194614023371\n"
          ],
          "name": "stdout"
        }
      ]
    },
    {
      "cell_type": "code",
      "metadata": {
        "id": "5Y5p1WyoPtrR",
        "colab_type": "code",
        "colab": {}
      },
      "source": [
        ""
      ],
      "execution_count": 0,
      "outputs": []
    }
  ]
}